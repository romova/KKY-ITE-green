{
 "cells": [
  {
   "cell_type": "code",
   "execution_count": 63,
   "id": "9dc5e570-4c92-4df0-ba29-27e10661095f",
   "metadata": {},
   "outputs": [
    {
     "data": {
      "text/plain": [
       "(0, 1)"
      ]
     },
     "execution_count": 63,
     "metadata": {},
     "output_type": "execute_result"
    }
   ],
   "source": [
    "import paho.mqtt.client as mqtt\n",
    "from time import sleep\n",
    "import json\n",
    "\n",
    "client =mqtt.Client(\"green\")\n",
    "client.username_pw_set(\"student_2021\",\"pivotecepomqtt\")\n",
    "client.connect(\"147.228.124.230\")\n",
    "client.on_message = on_message\n",
    "client.subscribe(\"ite/green/pokus\")\n",
    "\n",
    "#client.loop_start()\n"
   ]
  },
  {
   "cell_type": "code",
   "execution_count": 61,
   "id": "3f0eb493-6e57-4c98-ac4d-c3ea72e01247",
   "metadata": {},
   "outputs": [],
   "source": [
    "def on_message(client, userdata, message):\n",
    "    print(message.payload)"
   ]
  },
  {
   "cell_type": "code",
   "execution_count": 18,
   "id": "74f68945-fd28-4ffa-8308-cb5127d51c18",
   "metadata": {},
   "outputs": [],
   "source": [
    "client.loop_stop()"
   ]
  },
  {
   "cell_type": "code",
   "execution_count": 64,
   "id": "272e35ed-8ed1-473f-99cf-f1a1046e5d99",
   "metadata": {},
   "outputs": [
    {
     "name": "stdout",
     "output_type": "stream",
     "text": [
      "b'Error in conection'\n",
      "b'{\"team_name\": \"green\", \"created_on\": \"2020-03-24T15:26:05.336974\", \"temperature\": 92}'\n",
      "b'{\"team_name\": \"green\", \"created_on\": \"2020-03-24T15:26:05.336974\", \"temperature\": 62}'\n",
      "b'{\"team_name\": \"green\", \"created_on\": \"2020-03-24T15:26:05.336974\", \"temperature\": 95}'\n",
      "b'{\"team_name\": \"green\", \"created_on\": \"2020-03-24T15:26:05.336974\", \"temperature\": 17}'\n",
      "b'{\"team_name\": \"green\", \"created_on\": \"2020-03-24T15:26:05.336974\", \"temperature\": 23}'\n",
      "b'{\"team_name\": \"green\", \"created_on\": \"2020-03-24T15:26:05.336974\", \"temperature\": 87}'\n",
      "b'{\"team_name\": \"green\", \"created_on\": \"2020-03-24T15:26:05.336974\", \"temperature\": 50}'\n",
      "b'{\"team_name\": \"green\", \"created_on\": \"2020-03-24T15:26:05.336974\", \"temperature\": 49}'\n",
      "b'{\"team_name\": \"green\", \"created_on\": \"2020-03-24T15:26:05.336974\", \"temperature\": 97}'\n",
      "b'{\"team_name\": \"green\", \"created_on\": \"2020-03-24T15:26:05.336974\", \"temperature\": 55}'\n",
      "b'{\"team_name\": \"green\", \"created_on\": \"2020-03-24T15:26:05.336974\", \"temperature\": 6}'\n",
      "b'{\"team_name\": \"green\", \"created_on\": \"2020-03-24T15:26:05.336974\", \"temperature\": 64}'\n",
      "b'{\"team_name\": \"green\", \"created_on\": \"2020-03-24T15:26:05.336974\", \"temperature\": 0}'\n",
      "b'{\"team_name\": \"green\", \"created_on\": \"2020-03-24T15:26:05.336974\", \"temperature\": 7}'\n",
      "b'{\"team_name\": \"green\", \"created_on\": \"2020-03-24T15:26:05.336974\", \"temperature\": 5}'\n",
      "b'{\"team_name\": \"green\", \"created_on\": \"2020-03-24T15:26:05.336974\", \"temperature\": 54}'\n",
      "b'{\"team_name\": \"green\", \"created_on\": \"2020-03-24T15:26:05.336974\", \"temperature\": 42}'\n",
      "b'{\"team_name\": \"green\", \"created_on\": \"2020-03-24T15:26:05.336974\", \"temperature\": 38}'\n",
      "b'{\"team_name\": \"green\", \"created_on\": \"2020-03-24T15:26:05.336974\", \"temperature\": 97}'\n",
      "b'{\"team_name\": \"green\", \"created_on\": \"2020-03-24T15:26:05.336974\", \"temperature\": 27}'\n",
      "b'{\"team_name\": \"green\", \"created_on\": \"2020-03-24T15:26:05.336974\", \"temperature\": 10}'\n",
      "b'{\"team_name\": \"green\", \"created_on\": \"2020-03-24T15:26:05.336974\", \"temperature\": 6}'\n",
      "b'{\"team_name\": \"green\", \"created_on\": \"2020-03-24T15:26:05.336974\", \"temperature\": 31}'\n",
      "b'{\"team_name\": \"green\", \"created_on\": \"2020-03-24T15:26:05.336974\", \"temperature\": 20}'\n",
      "b'{\"team_name\": \"green\", \"created_on\": \"2020-03-24T15:26:05.336974\", \"temperature\": 76}'\n",
      "b'{\"team_name\": \"green\", \"created_on\": \"2020-03-24T15:26:05.336974\", \"temperature\": 8}'\n",
      "b'{\"team_name\": \"green\", \"created_on\": \"2020-03-24T15:26:05.336974\", \"temperature\": 0}'\n",
      "b'{\"team_name\": \"green\", \"created_on\": \"2020-03-24T15:26:05.336974\", \"temperature\": 66}'\n",
      "b'{\"team_name\": \"green\", \"created_on\": \"2020-03-24T15:26:05.336974\", \"temperature\": 16}'\n",
      "b'{\"team_name\": \"green\", \"created_on\": \"2020-03-24T15:26:05.336974\", \"temperature\": 25}'\n",
      "b'{\"team_name\": \"green\", \"created_on\": \"2020-03-24T15:26:05.336974\", \"temperature\": 53}'\n",
      "b'{\"team_name\": \"green\", \"created_on\": \"2020-03-24T15:26:05.336974\", \"temperature\": 88}'\n",
      "b'{\"team_name\": \"green\", \"created_on\": \"2020-03-24T15:26:05.336974\", \"temperature\": 49}'\n",
      "b'{\"team_name\": \"green\", \"created_on\": \"2020-03-24T15:26:05.336974\", \"temperature\": 68}'\n",
      "b'{\"team_name\": \"green\", \"created_on\": \"2020-03-24T15:26:05.336974\", \"temperature\": 73}'\n",
      "b'{\"team_name\": \"green\", \"created_on\": \"2020-03-24T15:26:05.336974\", \"temperature\": 56}'\n",
      "b'{\"team_name\": \"green\", \"created_on\": \"2020-03-24T15:26:05.336974\", \"temperature\": 36}'\n",
      "b'{\"team_name\": \"green\", \"created_on\": \"2020-03-24T15:26:05.336974\", \"temperature\": 48}'\n",
      "b'{\"team_name\": \"green\", \"created_on\": \"2020-03-24T15:26:05.336974\", \"temperature\": 74}'\n",
      "b'{\"team_name\": \"green\", \"created_on\": \"2020-03-24T15:26:05.336974\", \"temperature\": 75}'\n",
      "b'{\"team_name\": \"green\", \"created_on\": \"2020-03-24T15:26:05.336974\", \"temperature\": 18}'\n",
      "b'{\"team_name\": \"green\", \"created_on\": \"2020-03-24T15:26:05.336974\", \"temperature\": 30}'\n",
      "b'{\"team_name\": \"green\", \"created_on\": \"2020-03-24T15:26:05.336974\", \"temperature\": 8}'\n",
      "b'{\"team_name\": \"green\", \"created_on\": \"2020-03-24T15:26:05.336974\", \"temperature\": 57}'\n",
      "b'{\"team_name\": \"green\", \"created_on\": \"2020-03-24T15:26:05.336974\", \"temperature\": 43}'\n",
      "b'{\"team_name\": \"green\", \"created_on\": \"2020-03-24T15:26:05.336974\", \"temperature\": 28}'\n",
      "b'{\"team_name\": \"green\", \"created_on\": \"2020-03-24T15:26:05.336974\", \"temperature\": 60}'\n",
      "b'{\"team_name\": \"green\", \"created_on\": \"2020-03-24T15:26:05.336974\", \"temperature\": 86}'\n",
      "b'{\"team_name\": \"green\", \"created_on\": \"2020-03-24T15:26:05.336974\", \"temperature\": 85}'\n",
      "b'{\"team_name\": \"green\", \"created_on\": \"2020-03-24T15:26:05.336974\", \"temperature\": 98}'\n",
      "b'{\"team_name\": \"green\", \"created_on\": \"2020-03-24T15:26:05.336974\", \"temperature\": 79}'\n",
      "b'{\"team_name\": \"green\", \"created_on\": \"2020-03-24T15:26:05.336974\", \"temperature\": 45}'\n",
      "b'{\"team_name\": \"green\", \"created_on\": \"2020-03-24T15:26:05.336974\", \"temperature\": 51}'\n",
      "b'{\"team_name\": \"green\", \"created_on\": \"2020-03-24T15:26:05.336974\", \"temperature\": 31}'\n",
      "b'{\"team_name\": \"green\", \"created_on\": \"2020-03-24T15:26:05.336974\", \"temperature\": 2}'\n",
      "b'{\"team_name\": \"green\", \"created_on\": \"2020-03-24T15:26:05.336974\", \"temperature\": 25}'\n",
      "b'{\"team_name\": \"green\", \"created_on\": \"2020-03-24T15:26:05.336974\", \"temperature\": 17}'\n",
      "b'{\"team_name\": \"green\", \"created_on\": \"2020-03-24T15:26:05.336974\", \"temperature\": 56}'\n",
      "b'{\"team_name\": \"green\", \"created_on\": \"2020-03-24T15:26:05.336974\", \"temperature\": 84}'\n",
      "b'{\"team_name\": \"green\", \"created_on\": \"2020-03-24T15:26:05.336974\", \"temperature\": 27}'\n",
      "b'{\"team_name\": \"green\", \"created_on\": \"2020-03-24T15:26:05.336974\", \"temperature\": 50}'\n",
      "b'{\"team_name\": \"green\", \"created_on\": \"2020-03-24T15:26:05.336974\", \"temperature\": 11}'\n",
      "b'{\"team_name\": \"green\", \"created_on\": \"2020-03-24T15:26:05.336974\", \"temperature\": 99}'\n",
      "b'{\"team_name\": \"green\", \"created_on\": \"2020-03-24T15:26:05.336974\", \"temperature\": 0}'\n",
      "b'{\"team_name\": \"green\", \"created_on\": \"2020-03-24T15:26:05.336974\", \"temperature\": 45}'\n",
      "b'{\"team_name\": \"green\", \"created_on\": \"2020-03-24T15:26:05.336974\", \"temperature\": 49}'\n",
      "b'{\"team_name\": \"green\", \"created_on\": \"2020-03-24T15:26:05.336974\", \"temperature\": 29}'\n",
      "b'{\"team_name\": \"green\", \"created_on\": \"2020-03-24T15:26:05.336974\", \"temperature\": 49}'\n",
      "b'{\"team_name\": \"green\", \"created_on\": \"2020-03-24T15:26:05.336974\", \"temperature\": 71}'\n",
      "b'{\"team_name\": \"green\", \"created_on\": \"2020-03-24T15:26:05.336974\", \"temperature\": 82}'\n",
      "b'{\"team_name\": \"green\", \"created_on\": \"2020-03-24T15:26:05.336974\", \"temperature\": 71}'\n",
      "b'{\"team_name\": \"green\", \"created_on\": \"2020-03-24T15:26:05.336974\", \"temperature\": 18}'\n",
      "b'{\"team_name\": \"green\", \"created_on\": \"2020-03-24T15:26:05.336974\", \"temperature\": 32}'\n",
      "b'{\"team_name\": \"green\", \"created_on\": \"2020-03-24T15:26:05.336974\", \"temperature\": 82}'\n",
      "b'{\"team_name\": \"green\", \"created_on\": \"2020-03-24T15:26:05.336974\", \"temperature\": 96}'\n",
      "b'{\"team_name\": \"green\", \"created_on\": \"2020-03-24T15:26:05.336974\", \"temperature\": 47}'\n",
      "b'{\"team_name\": \"green\", \"created_on\": \"2020-03-24T15:26:05.336974\", \"temperature\": 53}'\n",
      "b'{\"team_name\": \"green\", \"created_on\": \"2020-03-24T15:26:05.336974\", \"temperature\": 92}'\n",
      "b'{\"team_name\": \"green\", \"created_on\": \"2020-03-24T15:26:05.336974\", \"temperature\": 19}'\n",
      "b'{\"team_name\": \"green\", \"created_on\": \"2020-03-24T15:26:05.336974\", \"temperature\": 52}'\n",
      "b'{\"team_name\": \"green\", \"created_on\": \"2020-03-24T15:26:05.336974\", \"temperature\": 46}'\n",
      "b'{\"team_name\": \"green\", \"created_on\": \"2020-03-24T15:26:05.336974\", \"temperature\": 70}'\n",
      "b'{\"team_name\": \"green\", \"created_on\": \"2020-03-24T15:26:05.336974\", \"temperature\": 19}'\n",
      "b'{\"team_name\": \"green\", \"created_on\": \"2020-03-24T15:26:05.336974\", \"temperature\": 7}'\n",
      "b'{\"team_name\": \"green\", \"created_on\": \"2020-03-24T15:26:05.336974\", \"temperature\": 85}'\n",
      "b'{\"team_name\": \"green\", \"created_on\": \"2020-03-24T15:26:05.336974\", \"temperature\": 98}'\n",
      "b'{\"team_name\": \"green\", \"created_on\": \"2020-03-24T15:26:05.336974\", \"temperature\": 75}'\n",
      "b'{\"team_name\": \"green\", \"created_on\": \"2020-03-24T15:26:05.336974\", \"temperature\": 78}'\n"
     ]
    }
   ],
   "source": [
    "client.loop_start()"
   ]
  }
 ],
 "metadata": {
  "kernelspec": {
   "display_name": "Python 3 (ipykernel)",
   "language": "python",
   "name": "python3"
  },
  "language_info": {
   "codemirror_mode": {
    "name": "ipython",
    "version": 3
   },
   "file_extension": ".py",
   "mimetype": "text/x-python",
   "name": "python",
   "nbconvert_exporter": "python",
   "pygments_lexer": "ipython3",
   "version": "3.9.5"
  }
 },
 "nbformat": 4,
 "nbformat_minor": 5
}
